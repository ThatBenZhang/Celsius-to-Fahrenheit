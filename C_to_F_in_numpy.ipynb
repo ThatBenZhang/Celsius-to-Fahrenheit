{
  "nbformat": 4,
  "nbformat_minor": 0,
  "metadata": {
    "colab": {
      "provenance": [],
      "authorship_tag": "ABX9TyNksPqN93Wa7l75rGQpvpNM",
      "include_colab_link": true
    },
    "kernelspec": {
      "name": "python3",
      "display_name": "Python 3"
    },
    "language_info": {
      "name": "python"
    }
  },
  "cells": [
    {
      "cell_type": "markdown",
      "metadata": {
        "id": "view-in-github",
        "colab_type": "text"
      },
      "source": [
        "<a href=\"https://colab.research.google.com/github/ThatBenZhang/Celsius-to-Fahrenheit/blob/main/C_to_F_in_numpy.ipynb\" target=\"_parent\"><img src=\"https://colab.research.google.com/assets/colab-badge.svg\" alt=\"Open In Colab\"/></a>"
      ]
    },
    {
      "cell_type": "code",
      "execution_count": 3,
      "metadata": {
        "colab": {
          "base_uri": "https://localhost:8080/"
        },
        "id": "j9XsA1Ijc9K-",
        "outputId": "0389e51f-0532-4987-df04-4c4fe7a94a39"
      },
      "outputs": [
        {
          "output_type": "stream",
          "name": "stdout",
          "text": [
            "Dataset URL: https://www.kaggle.com/datasets/domnic/celsius-to-fahrenheit\n",
            "License(s): unknown\n",
            "Downloading celsius-to-fahrenheit.zip to /content\n",
            "  0% 0.00/72.9k [00:00<?, ?B/s]\n",
            "100% 72.9k/72.9k [00:00<00:00, 53.2MB/s]\n"
          ]
        }
      ],
      "source": [
        "!kaggle datasets download -d domnic/celsius-to-fahrenheit\n"
      ]
    },
    {
      "cell_type": "code",
      "source": [
        "import zipfile\n",
        "import os\n",
        "with zipfile.ZipFile(\"celsius-to-fahrenheit.zip\", 'r') as zip_ref:\n",
        "    zip_ref.extractall(\"celsius-to-fahrenheit\")"
      ],
      "metadata": {
        "id": "_I3B6haBgXZn"
      },
      "execution_count": 4,
      "outputs": []
    },
    {
      "cell_type": "code",
      "source": [
        "import pandas as pd\n",
        "df = pd.read_csv('celsius-to-fahrenheit/training.csv')\n",
        "\n",
        "print(df.head())\n"
      ],
      "metadata": {
        "colab": {
          "base_uri": "https://localhost:8080/"
        },
        "id": "BOHD6dEwhiFu",
        "outputId": "4c58bc7e-a70e-450b-8e61-0a6ae7de54e1"
      },
      "execution_count": 5,
      "outputs": [
        {
          "output_type": "stream",
          "name": "stdout",
          "text": [
            "   Celsius  Fahrenheit\n",
            "0     1169      2136.2\n",
            "1     1280      2336.0\n",
            "2     2380      4316.0\n",
            "3     1508      2746.4\n",
            "4     2015      3659.0\n"
          ]
        }
      ]
    },
    {
      "cell_type": "code",
      "source": [
        "import numpy as np\n",
        "import random\n",
        "\n",
        "C = df['Celsius'].astype(float).values.reshape(-1,1)\n",
        "F = df['Fahrenheit'].astype(float).values.reshape(-1,1)\n",
        "\n",
        "\n",
        "def z_score_normalize(data):\n",
        "    mean = np.mean(data)\n",
        "    return (data - mean) / np.std(data)\n",
        "\n",
        "Ctr = z_score_normalize(C)\n",
        "Ftr = z_score_normalize(F)\n",
        "\n",
        "print(\"Normalized Celsius:\", Ctr)\n",
        "print(\"Normalized Fahrenheit:\", Ftr)"
      ],
      "metadata": {
        "colab": {
          "base_uri": "https://localhost:8080/"
        },
        "id": "97R1wlxTjLAQ",
        "outputId": "08037b62-cca1-43e6-b754-8e0aafa1e653"
      },
      "execution_count": 12,
      "outputs": [
        {
          "output_type": "stream",
          "name": "stdout",
          "text": [
            "Normalized Celsius: [[-0.11804244]\n",
            " [ 0.03478369]\n",
            " [ 1.54927691]\n",
            " ...\n",
            " [ 0.45333454]\n",
            " [ 1.5713059 ]\n",
            " [-1.72753568]]\n",
            "Normalized Fahrenheit: [[-0.11804244]\n",
            " [ 0.03478369]\n",
            " [ 1.54927691]\n",
            " ...\n",
            " [ 0.45333454]\n",
            " [ 1.5713059 ]\n",
            " [-1.72753568]]\n"
          ]
        }
      ]
    },
    {
      "cell_type": "code",
      "source": [
        "W = np.random.randn(1)\n",
        "b = np.random.randn(1)\n",
        "print(W, b)"
      ],
      "metadata": {
        "colab": {
          "base_uri": "https://localhost:8080/"
        },
        "id": "JDtQ5eDslSTt",
        "outputId": "ab49786c-eda7-42d5-b35b-5db4329f6e05"
      },
      "execution_count": 13,
      "outputs": [
        {
          "output_type": "stream",
          "name": "stdout",
          "text": [
            "[-0.11571469] [0.97101177]\n"
          ]
        }
      ]
    },
    {
      "cell_type": "code",
      "source": [
        "def forward(C, W, b):\n",
        "    return W * Ctr + b\n",
        "\n",
        "def compute_loss(F, F_pred):\n",
        "    return np.mean((Ftr - F_pred) ** 2)\n",
        "\n",
        "def backward(C, F, F_pred):\n",
        "    dW = -2 * np.mean(Ctr * (F - F_pred))\n",
        "    db = -2 * np.mean(F - F_pred)\n",
        "    return dW, db\n",
        "\n",
        "def update(W, b, dW, db, alpha):\n",
        "    W = W - alpha * dW\n",
        "    b = b - alpha * db\n",
        "    return W, b"
      ],
      "metadata": {
        "id": "eRZ-euJtvLKC"
      },
      "execution_count": 14,
      "outputs": []
    },
    {
      "cell_type": "code",
      "source": [
        "alpha = 0.01\n",
        "n_epochs = 1000\n",
        "\n",
        "for epoch in range(n_epochs):\n",
        "    # Forward pass\n",
        "    F_pred_normalized = forward(Ctr, W, b)\n",
        "\n",
        "    # Compute loss\n",
        "    loss = compute_loss(Ftr, F_pred_normalized)\n",
        "\n",
        "    # Backward pass\n",
        "    dW, db = backward(Ctr, Ftr, F_pred_normalized)\n",
        "\n",
        "    # Update parameters\n",
        "    W, b = update(W, b, dW, db, alpha)\n",
        "\n",
        "    # Print loss every 100 epochs\n",
        "    if epoch % 100 == 0:\n",
        "        print(f'Epoch {epoch}, Loss: {loss}, W: {W}, b: {b}')\n",
        "\n",
        "print(f'Final learned parameters in normalized space: W = {W}, b = {b}')\n",
        "\n",
        "W_original = W * (np.std(F) / np.std(C))\n",
        "b_original = np.mean(F) + (b * np.std(F)) - (W_original * np.mean(C))\n",
        "\n",
        "print(f'De-normalized parameters: W_original = {W_original}, b_original = {b_original}')\n",
        "\n",
        "# W_actual = 9/5 = 1.8\n",
        "# b_actual = 32"
      ],
      "metadata": {
        "colab": {
          "base_uri": "https://localhost:8080/"
        },
        "id": "Cx8pLbcsmNgT",
        "outputId": "eaa68931-8f6a-4a96-d256-fcbf42d3937e"
      },
      "execution_count": 15,
      "outputs": [
        {
          "output_type": "stream",
          "name": "stdout",
          "text": [
            "Epoch 0, Loss: 2.1876831230035454, W: [-0.09340039], b: [0.95159154]\n",
            "Epoch 100, Loss: 0.038476853957624506, W: [0.85499373], b: [0.12619965]\n",
            "Epoch 200, Loss: 0.0006767288529628521, W: [0.98076933], b: [0.01673654]\n",
            "Epoch 300, Loss: 1.1902270932461115e-05, W: [0.99744964], b: [0.00221959]\n",
            "Epoch 400, Loss: 2.0933650564696132e-07, W: [0.99966177], b: [0.00029436]\n",
            "Epoch 500, Loss: 3.6817992839319393e-09, W: [0.99995514], b: [3.90380771e-05]\n",
            "Epoch 600, Loss: 6.475528921982225e-11, W: [0.99999405], b: [5.17721244e-06]\n",
            "Epoch 700, Loss: 1.1389125695817256e-12, W: [0.99999921], b: [6.86599615e-07]\n",
            "Epoch 800, Loss: 2.0031133512103126e-14, W: [0.9999999], b: [9.10565362e-08]\n",
            "Epoch 900, Loss: 3.5230650619124e-16, W: [0.99999999], b: [1.20758775e-08]\n",
            "Final learned parameters in normalized space: W = [1.], b = [1.63418129e-09]\n",
            "De-normalized parameters: W_original = [1.8], b_original = [32.00000638]\n"
          ]
        }
      ]
    },
    {
      "cell_type": "code",
      "source": [
        "# def ReLU(Z):\n",
        "#     return np.maximum(Z, 0)\n",
        "\n",
        "# def Sig(Z):\n",
        "#     return 1 / (1 + np.exp(-Z))\n",
        "\n",
        "# def softmax(Z):\n",
        "#     A = np.exp(Z) / sum(np.exp(Z))\n",
        "#     return A\n",
        "\n",
        "# def ReLU_deriv(Z):\n",
        "#     return Z > 0\n",
        "\n",
        "# def Sig_deriv(Z):\n",
        "#     return Sig(Z) * (1 - Sig(Z))\n",
        "\n",
        "# def one_hot(F):\n",
        "#     one_hot_F = np.zeros((F.size, F.max() + 1))\n",
        "#     one_hot_Y[np.arange(F.size), F] = 1\n",
        "#     one_hot_Y = one_hot_F.T\n",
        "#     return one_hot_F"
      ],
      "metadata": {
        "id": "tO3q3Bxtzju1"
      },
      "execution_count": 202,
      "outputs": []
    },
    {
      "cell_type": "code",
      "source": [],
      "metadata": {
        "id": "3i_WTmT22cOR"
      },
      "execution_count": null,
      "outputs": []
    }
  ]
}